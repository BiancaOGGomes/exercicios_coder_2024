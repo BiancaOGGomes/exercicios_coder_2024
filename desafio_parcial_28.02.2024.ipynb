{
 "cells": [
  {
   "cell_type": "code",
   "execution_count": 4,
   "metadata": {},
   "outputs": [
    {
     "name": "stdout",
     "output_type": "stream",
     "text": [
      "Collecting requests\n",
      "  Downloading requests-2.31.0-py3-none-any.whl.metadata (4.6 kB)\n",
      "Collecting charset-normalizer<4,>=2 (from requests)\n",
      "  Downloading charset_normalizer-3.3.2-cp312-cp312-win_amd64.whl.metadata (34 kB)\n",
      "Collecting idna<4,>=2.5 (from requests)\n",
      "  Downloading idna-3.6-py3-none-any.whl.metadata (9.9 kB)\n",
      "Collecting urllib3<3,>=1.21.1 (from requests)\n",
      "  Downloading urllib3-2.2.1-py3-none-any.whl.metadata (6.4 kB)\n",
      "Collecting certifi>=2017.4.17 (from requests)\n",
      "  Downloading certifi-2024.2.2-py3-none-any.whl.metadata (2.2 kB)\n",
      "Downloading requests-2.31.0-py3-none-any.whl (62 kB)\n",
      "   ---------------------------------------- 0.0/62.6 kB ? eta -:--:--\n",
      "   ---------------------------------------- 62.6/62.6 kB 3.5 MB/s eta 0:00:00\n",
      "Downloading certifi-2024.2.2-py3-none-any.whl (163 kB)\n",
      "   ---------------------------------------- 0.0/163.8 kB ? eta -:--:--\n",
      "   ---------------------------------------- 163.8/163.8 kB 5.0 MB/s eta 0:00:00\n",
      "Downloading charset_normalizer-3.3.2-cp312-cp312-win_amd64.whl (100 kB)\n",
      "   ---------------------------------------- 0.0/100.4 kB ? eta -:--:--\n",
      "   ---------------------------------------- 100.4/100.4 kB 6.0 MB/s eta 0:00:00\n",
      "Downloading idna-3.6-py3-none-any.whl (61 kB)\n",
      "   ---------------------------------------- 0.0/61.6 kB ? eta -:--:--\n",
      "   ---------------------------------------- 61.6/61.6 kB 3.2 MB/s eta 0:00:00\n",
      "Downloading urllib3-2.2.1-py3-none-any.whl (121 kB)\n",
      "   ---------------------------------------- 0.0/121.1 kB ? eta -:--:--\n",
      "   ---------------------------------------- 121.1/121.1 kB 6.9 MB/s eta 0:00:00\n",
      "Installing collected packages: urllib3, idna, charset-normalizer, certifi, requests\n",
      "Successfully installed certifi-2024.2.2 charset-normalizer-3.3.2 idna-3.6 requests-2.31.0 urllib3-2.2.1\n",
      "Note: you may need to restart the kernel to use updated packages.\n"
     ]
    },
    {
     "name": "stderr",
     "output_type": "stream",
     "text": [
      "  WARNING: The script normalizer.exe is installed in 'c:\\Users\\BiancaGomes\\AppData\\Local\\Programs\\Python\\Python312\\Scripts' which is not on PATH.\n",
      "  Consider adding this directory to PATH or, if you prefer to suppress this warning, use --no-warn-script-location.\n"
     ]
    }
   ],
   "source": [
    "pip install requests"
   ]
  },
  {
   "cell_type": "code",
   "execution_count": 7,
   "metadata": {},
   "outputs": [
    {
     "name": "stdout",
     "output_type": "stream",
     "text": [
      "Tabela 1: [{'ispb': '00000000', 'name': 'BCO DO BRASIL S.A.', 'code': 1, 'fullName': 'Banco do Brasil S.A.'}, {'ispb': '00000208', 'name': 'BRB - BCO DE BRASILIA S.A.', 'code': 70, 'fullName': 'BRB - BANCO DE BRASILIA S.A.'}, {'ispb': '00038121', 'name': 'Selic', 'code': None, 'fullName': 'Banco Central do Brasil - Selic'}, {'ispb': '00038166', 'name': 'Bacen', 'code': None, 'fullName': 'Banco Central do Brasil'}, {'ispb': '00122327', 'name': 'SANTINVEST S.A. - CFI', 'code': 539, 'fullName': 'SANTINVEST S.A. - CREDITO, FINANCIAMENTO E INVESTIMENTOS'}]\n",
      "Tabela 2: [{'ispb': '00204963', 'name': 'CCR SEARA', 'code': 430, 'fullName': 'COOPERATIVA DE CREDITO RURAL SEARA - CREDISEARA'}, {'ispb': '00250699', 'name': 'AGK CC S.A.', 'code': 272, 'fullName': 'AGK CORRETORA DE CAMBIO S.A.'}, {'ispb': '00315557', 'name': 'CONF NAC COOP CENTRAIS UNICRED', 'code': 136, 'fullName': 'CONFEDERAÇÃO NACIONAL DAS COOPERATIVAS CENTRAIS UNICRED LTDA. - UNICRED DO BRASI'}, {'ispb': '00329598', 'name': 'ÍNDIGO INVESTIMENTOS DTVM LTDA.', 'code': 407, 'fullName': 'ÍNDIGO INVESTIMENTOS DISTRIBUIDORA DE TÍTULOS E VALORES MOBILIÁRIOS LTDA.'}, {'ispb': '00360305', 'name': 'CAIXA ECONOMICA FEDERAL', 'code': 104, 'fullName': 'CAIXA ECONOMICA FEDERAL'}]\n",
      "Tabela 3: [{'ispb': '00394460', 'name': 'STN', 'code': None, 'fullName': 'Secretaria do Tesouro Nacional - STN'}, {'ispb': '00416968', 'name': 'BANCO INTER', 'code': 77, 'fullName': 'Banco Inter S.A.'}, {'ispb': '00460065', 'name': 'COLUNA S.A. DTVM', 'code': 423, 'fullName': 'COLUNA S/A DISTRIBUIDORA DE TITULOS E VALORES MOBILIÁRIOS'}, {'ispb': '00517645', 'name': 'BCO RIBEIRAO PRETO S.A.', 'code': 741, 'fullName': 'BANCO RIBEIRAO PRETO S.A.'}, {'ispb': '00556603', 'name': 'BANCO BARI S.A.', 'code': 330, 'fullName': 'BANCO BARI DE INVESTIMENTOS E FINANCIAMENTOS S.A.'}]\n",
      "Alerta: Dados extraídos com sucesso!\n"
     ]
    }
   ],
   "source": [
    "import requests\n",
    "\n",
    "# Função para fazer a requisição à API e extrair as tabelas\n",
    "def extrair_dados():\n",
    "    try:\n",
    "        response = requests.get('https://brasilapi.com.br/api/banks/v1')\n",
    "        response.raise_for_status() # Lança uma exceção se a resposta não for bem-sucedida\n",
    "        \n",
    "        data = response.json()\n",
    "\n",
    "        # Extraindo as informações e exibindo 3 tabelas\n",
    "        banks = data  # A resposta já é uma lista de bancos\n",
    "        if not banks:\n",
    "            raise ValueError('Nenhum dado encontrado na resposta')\n",
    "\n",
    "        tabela1 = banks[:5]  # Exemplo de uma tabela\n",
    "        tabela2 = banks[5:10]  # Outra tabela\n",
    "        tabela3 = banks[10:15]  # Mais uma tabela\n",
    "\n",
    "        print('Tabela 1:', tabela1)\n",
    "        print('Tabela 2:', tabela2)\n",
    "        print('Tabela 3:', tabela3)\n",
    "\n",
    "        # Chamando a função alerta em caso de sucesso\n",
    "        alerta('Dados extraídos com sucesso!')\n",
    "    except Exception as e:\n",
    "        # Em caso de erro, exibir mensagem de erro e chamar a função alerta\n",
    "        print('Erro ao extrair dados:', str(e))\n",
    "        alerta('Erro ao extrair dados da API')\n",
    "\n",
    "# Função de alerta\n",
    "def alerta(mensagem):\n",
    "    # Implementação da função alerta, aqui você pode adaptar conforme necessário\n",
    "    print('Alerta:', mensagem)\n",
    "\n",
    "# Chamando a função para extrair os dados\n",
    "extrair_dados()"
   ]
  }
 ],
 "metadata": {
  "kernelspec": {
   "display_name": "Python 3",
   "language": "python",
   "name": "python3"
  },
  "language_info": {
   "codemirror_mode": {
    "name": "ipython",
    "version": 3
   },
   "file_extension": ".py",
   "mimetype": "text/x-python",
   "name": "python",
   "nbconvert_exporter": "python",
   "pygments_lexer": "ipython3",
   "version": "3.12.1"
  }
 },
 "nbformat": 4,
 "nbformat_minor": 2
}
