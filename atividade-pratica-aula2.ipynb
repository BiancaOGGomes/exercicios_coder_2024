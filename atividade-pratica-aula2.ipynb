{
 "cells": [
  {
   "cell_type": "code",
   "execution_count": 1,
   "metadata": {},
   "outputs": [
    {
     "name": "stdout",
     "output_type": "stream",
     "text": [
      "O seu IMC é: 27.343749999999996\n"
     ]
    }
   ],
   "source": [
    "#Escreva um programa em Python que calcule o IMC (Índice de Massa Corporal) de uma pessoa. \n",
    "#O programa deve solicitar ao usuário o peso em kg e a altura em metros, e em seguida, calcular e imprimir o valor do IMC.\n",
    "\n",
    "peso = float(input('Quanto você pesa em kg?'))\n",
    "altura = float(input('Quanto você tem de altura em metros?'))\n",
    "IMC = peso / (altura**2)\n",
    "print('O seu IMC é:', IMC)"
   ]
  },
  {
   "cell_type": "code",
   "execution_count": 2,
   "metadata": {},
   "outputs": [
    {
     "name": "stdout",
     "output_type": "stream",
     "text": [
      "[3, 7, 9, 11, 155]\n"
     ]
    }
   ],
   "source": [
    "#Faça um programa em python que crie uma lista vazia e permita que o usuário insira 5 números inteiros na lista.\n",
    "\n",
    "lista = []\n",
    "for _ in[1,2,3,4,5]:\n",
    "    numero = int(input('Insira números inteiros:'))\n",
    "    lista.append(numero)\n",
    "\n",
    "print(lista)\n"
   ]
  },
  {
   "cell_type": "code",
   "execution_count": 3,
   "metadata": {},
   "outputs": [
    {
     "name": "stdout",
     "output_type": "stream",
     "text": [
      "['Ana', ' João', ' Maria', ' Vitor', ' Leticia']\n"
     ]
    }
   ],
   "source": [
    "#Faça um programa que peça ao usuário para digitar uma lista de nomes separados por vírgula e transforme essa lista em uma lista de strings.\n",
    "\n",
    "nomes = input(\"Liste nomes separados por vírgula:\")\n",
    "lista_nomes = nomes.split(',')\n",
    "print(lista_nomes)"
   ]
  },
  {
   "cell_type": "code",
   "execution_count": null,
   "metadata": {},
   "outputs": [],
   "source": []
  }
 ],
 "metadata": {
  "kernelspec": {
   "display_name": "Python 3",
   "language": "python",
   "name": "python3"
  },
  "language_info": {
   "codemirror_mode": {
    "name": "ipython",
    "version": 3
   },
   "file_extension": ".py",
   "mimetype": "text/x-python",
   "name": "python",
   "nbconvert_exporter": "python",
   "pygments_lexer": "ipython3",
   "version": "3.12.1"
  }
 },
 "nbformat": 4,
 "nbformat_minor": 2
}
